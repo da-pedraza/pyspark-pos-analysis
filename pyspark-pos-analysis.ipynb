{
 "cells": [
  {
   "cell_type": "markdown",
   "id": "552b697b-1878-40ba-aeeb-969557e0e143",
   "metadata": {},
   "source": [
    "# PySpark Part of Speech (POS) analysis\n",
    "Text taken from [Reuters](https://www.reuters.com/business/finance/banks-beware-outsiders-are-cracking-code-finance-2021-09-17/)."
   ]
  },
  {
   "cell_type": "code",
   "execution_count": 183,
   "id": "7cd1ede6-d16a-4a00-bd87-1f62a8c5f149",
   "metadata": {},
   "outputs": [],
   "source": [
    "import nltk\n",
    "from pyspark import SparkContext"
   ]
  },
  {
   "cell_type": "code",
   "execution_count": 184,
   "id": "46c21e6e-08f3-4755-b0d3-2caa83441d6c",
   "metadata": {},
   "outputs": [
    {
     "name": "stderr",
     "output_type": "stream",
     "text": [
      "[nltk_data] Downloading package punkt to /home/vpn/nltk_data...\n",
      "[nltk_data]   Package punkt is already up-to-date!\n",
      "[nltk_data] Downloading package averaged_perceptron_tagger to\n",
      "[nltk_data]     /home/vpn/nltk_data...\n",
      "[nltk_data]   Package averaged_perceptron_tagger is already up-to-\n",
      "[nltk_data]       date!\n"
     ]
    },
    {
     "data": {
      "text/plain": [
       "True"
      ]
     },
     "execution_count": 184,
     "metadata": {},
     "output_type": "execute_result"
    }
   ],
   "source": [
    "nltk.download(\"punkt\")\n",
    "nltk.download(\"averaged_perceptron_tagger\")"
   ]
  },
  {
   "cell_type": "code",
   "execution_count": 185,
   "id": "23067b1b-24a8-4e92-8998-04aabe98c1b7",
   "metadata": {},
   "outputs": [],
   "source": [
    "sc = SparkContext(\"spark://192.168.30.111:7077\", appName = \"pyspark-pos-analysis\")"
   ]
  },
  {
   "cell_type": "code",
   "execution_count": 198,
   "id": "d3867cc9-1200-454b-b808-46ff63273be8",
   "metadata": {},
   "outputs": [],
   "source": [
    "# Loading a text file\n",
    "rdd_reuters = sc.textFile(\"./data/reuters.txt\")"
   ]
  },
  {
   "cell_type": "code",
   "execution_count": 199,
   "id": "c010db1d-f71e-4a8d-992c-076d7e16b777",
   "metadata": {},
   "outputs": [
    {
     "data": {
      "text/plain": [
       "87"
      ]
     },
     "execution_count": 199,
     "metadata": {},
     "output_type": "execute_result"
    }
   ],
   "source": [
    "rdd_reuters.count()"
   ]
  },
  {
   "cell_type": "code",
   "execution_count": 200,
   "id": "914217ef-b4eb-4d92-9aad-b8f9b546940d",
   "metadata": {},
   "outputs": [
    {
     "data": {
      "text/plain": [
       "PythonRDD[61] at RDD at PythonRDD.scala:53"
      ]
     },
     "execution_count": 200,
     "metadata": {},
     "output_type": "execute_result"
    }
   ],
   "source": [
    "rdd_reuters.flatMap(lambda x: x.split(\" \"))"
   ]
  },
  {
   "cell_type": "code",
   "execution_count": 204,
   "id": "2700cc1e-6238-4cda-a5ef-764781e4e5c5",
   "metadata": {},
   "outputs": [],
   "source": [
    "tokens = rdd_reuters.flatMap(lambda x: x.split(\" \")).collect()\n",
    "rdd_pair = sc.parallelize(tokens)\n",
    "pos = nltk.pos_tag(tokens)\n"
   ]
  },
  {
   "cell_type": "code",
   "execution_count": 205,
   "id": "f0580d3d-8251-4d3f-9549-0cc0c336d2ee",
   "metadata": {},
   "outputs": [
    {
     "data": {
      "text/plain": [
       "[(':', 8),\n",
       " ('CC', 46),\n",
       " ('CD', 18),\n",
       " ('DT', 74),\n",
       " ('FW', 1),\n",
       " ('IN', 146),\n",
       " ('JJ', 105),\n",
       " ('JJR', 3),\n",
       " ('JJS', 3),\n",
       " ('MD', 17),\n",
       " ('NN', 209),\n",
       " ('NNP', 171),\n",
       " ('NNS', 102),\n",
       " ('PDT', 1),\n",
       " ('PRP', 32),\n",
       " ('PRP$', 13),\n",
       " ('RB', 41),\n",
       " ('RBR', 3),\n",
       " ('RBS', 1),\n",
       " ('RP', 7),\n",
       " ('TO', 42),\n",
       " ('VB', 60),\n",
       " ('VBD', 33),\n",
       " ('VBG', 27),\n",
       " ('VBN', 25),\n",
       " ('VBP', 44),\n",
       " ('VBZ', 34),\n",
       " ('WDT', 8),\n",
       " ('WP', 1),\n",
       " ('WRB', 7)]"
      ]
     },
     "execution_count": 205,
     "metadata": {},
     "output_type": "execute_result"
    }
   ],
   "source": [
    "rdd_pos = sc.parallelize(pos)\n",
    "values = rdd_pos.map(lambda x: (x[1]))\n",
    "values.map(lambda word: (word, 1)) \\\n",
    "    .reduceByKey(lambda a, b: a + b) \\\n",
    "    .sortByKey(ascending = True) \\\n",
    "    .collect()"
   ]
  },
  {
   "cell_type": "code",
   "execution_count": 182,
   "id": "b1c648d0-0108-4d93-9f84-486f7db01364",
   "metadata": {},
   "outputs": [],
   "source": [
    "sc.stop()"
   ]
  }
 ],
 "metadata": {
  "kernelspec": {
   "display_name": "Python 3",
   "language": "python",
   "name": "python3"
  },
  "language_info": {
   "codemirror_mode": {
    "name": "ipython",
    "version": 3
   },
   "file_extension": ".py",
   "mimetype": "text/x-python",
   "name": "python",
   "nbconvert_exporter": "python",
   "pygments_lexer": "ipython3",
   "version": "3.8.8"
  }
 },
 "nbformat": 4,
 "nbformat_minor": 5
}
